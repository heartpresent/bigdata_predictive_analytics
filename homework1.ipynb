{
  "nbformat": 4,
  "nbformat_minor": 0,
  "metadata": {
    "colab": {
      "private_outputs": true,
      "provenance": [],
      "collapsed_sections": [],
      "authorship_tag": "ABX9TyMBkBNc1cLEwuCLOSJ+1H4S",
      "include_colab_link": true
    },
    "kernelspec": {
      "name": "python3",
      "display_name": "Python 3"
    },
    "language_info": {
      "name": "python"
    }
  },
  "cells": [
    {
      "cell_type": "markdown",
      "metadata": {
        "id": "view-in-github",
        "colab_type": "text"
      },
      "source": [
        "<a href=\"https://colab.research.google.com/github/jindotori/bigdata_predictive_analytics/blob/main/homework1.ipynb\" target=\"_parent\"><img src=\"https://colab.research.google.com/assets/colab-badge.svg\" alt=\"Open In Colab\"/></a>"
      ]
    },
    {
      "cell_type": "code",
      "execution_count": null,
      "metadata": {
        "id": "g-3PzI6L-S3B"
      },
      "outputs": [],
      "source": [
        "import statsmodels.api\n",
        "import statsmodels.formula.api as smf\n",
        "import numpy as np\n",
        "import pandas as pd\n",
        "import matplotlib.pyplot as plt\n",
        "\n",
        "plt.rc('font', family='Malgun Gothic')\n",
        "\n",
        "mtcars = statsmodels.api.datasets.get_rdataset('mtcars').data\n",
        "print(mtcars)\n",
        "'''\n",
        "                      mpg  cyl   disp   hp  drat  ...   qsec  vs  am  gear  carb\n",
        "Mazda RX4            21.0    6  160.0  110  3.90  ...  16.46   0   1     4     4\n",
        "Mazda RX4 Wag        21.0    6  160.0  110  3.90  ...  17.02   0   1     4     4\n",
        "'''\n",
        "print(mtcars.columns) # Index(['mpg', 'cyl', 'disp', 'hp', 'drat', 'wt', 'qsec', 'vs', 'am', 'gear', 'carb'], dtype='object')\n",
        "print(mtcars.describe())\n",
        "print(np.corrcoef(mtcars.hp, mtcars.mpg)) # 상관계수 : -0.77616837\n",
        "print(np.corrcoef(mtcars.wt, mtcars.mpg)) # 상관계수 : -0.86765938\n",
        "print(mtcars.corr())\n",
        "\n"
      ]
    },
    {
      "cell_type": "code",
      "source": [
        "\n",
        "# 시각화\n",
        "plt.scatter(mtcars.hp, mtcars.mpg)\n",
        "plt.xlabel('hp')\n",
        "plt.ylabel('mpg')\n",
        "slope, intercept = np.polyfit(mtcars.hp, mtcars.mpg, 1) # 1차원\n",
        "plt.plot(mtcars.hp, mtcars.hp * slope + intercept, 'r')\n",
        "plt.show()"
      ],
      "metadata": {
        "id": "DgFlnIevGIag"
      },
      "execution_count": null,
      "outputs": []
    },
    {
      "cell_type": "code",
      "source": [
        "# 다중선형 회귀\n",
        "result2 = smf.ols('mpg ~ disp + hp + wt ', data=mtcars).fit()\n",
        "print(result2.summary())\n",
        "print(result2.conf_int(alpha=0.05))\n",
        "print(result2.summary().tables[0])\n"
      ],
      "metadata": {
        "id": "GXma1ImHGTAG"
      },
      "execution_count": null,
      "outputs": []
    },
    {
      "cell_type": "code",
      "source": [
        "print('배기량 200 + 마력수 120 + 무게 2.91 에 대한 연비 예측 :', 37.1055 +(-0.0009*200)+ (-0.0312*120)+(-3.8009*2.91)) # 22.120880999999997"
      ],
      "metadata": {
        "id": "3OLdEu6GHHvs"
      },
      "execution_count": null,
      "outputs": []
    }
  ]
}