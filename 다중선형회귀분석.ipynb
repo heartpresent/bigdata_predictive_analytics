{
  "nbformat": 4,
  "nbformat_minor": 0,
  "metadata": {
    "colab": {
      "private_outputs": true,
      "provenance": [],
      "collapsed_sections": [],
      "authorship_tag": "ABX9TyNGO6OLLYWtvep23UqTpEQu",
      "include_colab_link": true
    },
    "kernelspec": {
      "name": "python3",
      "display_name": "Python 3"
    },
    "language_info": {
      "name": "python"
    }
  },
  "cells": [
    {
      "cell_type": "markdown",
      "metadata": {
        "id": "view-in-github",
        "colab_type": "text"
      },
      "source": [
        "<a href=\"https://colab.research.google.com/github/jindotori/bigdata_predictive_analytics/blob/main/%EB%8B%A4%EC%A4%91%EC%84%A0%ED%98%95%ED%9A%8C%EA%B7%80%EB%B6%84%EC%84%9D.ipynb\" target=\"_parent\"><img src=\"https://colab.research.google.com/assets/colab-badge.svg\" alt=\"Open In Colab\"/></a>"
      ]
    },
    {
      "cell_type": "code",
      "execution_count": null,
      "metadata": {
        "id": "g-3PzI6L-S3B"
      },
      "outputs": [],
      "source": [
        "import statsmodels.api\n",
        "import statsmodels.formula.api as smf\n",
        "import numpy as np\n",
        "import pandas as pd\n",
        "import matplotlib.pyplot as plt\n",
        "\n",
        "mtcars = statsmodels.api.datasets.get_rdataset('mtcars').data\n",
        "print(mtcars)\n",
        "'''\n",
        "                      mpg  cyl   disp   hp  drat  ...   qsec  vs  am  gear  carb\n",
        "Mazda RX4            21.0    6  160.0  110  3.90  ...  16.46   0   1     4     4\n",
        "Mazda RX4 Wag        21.0    6  160.0  110  3.90  ...  17.02   0   1     4     4\n",
        "'''\n",
        "print(mtcars.columns) # Index(['mpg', 'cyl', 'disp', 'hp', 'drat', 'wt', 'qsec', 'vs', 'am', 'gear', 'carb'], dtype='object')\n",
        "print(mtcars.describe())\n",
        "print(np.corrcoef(mtcars.hp, mtcars.mpg)) # 상관계수 : -0.77616837\n",
        "print(np.corrcoef(mtcars.wt, mtcars.mpg)) # 상관계수 : -0.86765938\n",
        "print(mtcars.corr())\n",
        "\n"
      ]
    },
    {
      "cell_type": "code",
      "source": [
        "# 배기량을 입력해 연비를 추정\n",
        "result3 = smf.ols('mpg ~ disp', data=mtcars).fit()\n",
        "print(result3.summary())\n",
        "print('결정계수 :', result3.rsquared) # 0.7183433404897299 > 0.05 설명력이 우수한 모델\n",
        "pred = result3.predict()"
      ],
      "metadata": {
        "id": "2Ljb-Td2I3IT"
      },
      "execution_count": null,
      "outputs": []
    },
    {
      "cell_type": "code",
      "source": [
        "# 차제 무게를 입력해 연비를 추정\n",
        "result3 = smf.ols('mpg ~ wt', data=mtcars).fit()\n",
        "print(result3.summary())\n",
        "print('결정계수 :', result3.rsquared) # 0.7528327936582646 > 0.05 설명력이 우수한 모델\n",
        "pred = result3.predict()"
      ],
      "metadata": {
        "id": "9rhocghWIbNv"
      },
      "execution_count": null,
      "outputs": []
    },
    {
      "cell_type": "code",
      "source": [
        "# 마력을 입력해 연비를 추정\n",
        "result3 = smf.ols('mpg ~ hp', data=mtcars).fit()\n",
        "print(result3.summary())\n",
        "print('결정계수 :', result3.rsquared) # 0.602437341423934 > 0.05 설명력이 우수한 모델\n",
        "pred = result3.predict()"
      ],
      "metadata": {
        "id": "-zQtM43qIy0q"
      },
      "execution_count": null,
      "outputs": []
    },
    {
      "cell_type": "code",
      "source": [
        "# 다중선형 회귀\n",
        "result2 = smf.ols('mpg ~ disp + hp + wt ', data=mtcars).fit()\n",
        "print(result2.summary())\n",
        "print(result2.conf_int(alpha=0.05))\n",
        "print(result2.summary().tables[0])\n"
      ],
      "metadata": {
        "id": "GXma1ImHGTAG"
      },
      "execution_count": null,
      "outputs": []
    },
    {
      "cell_type": "code",
      "source": [
        "print('배기량 200 + 마력수 120 + 무게 2.91 에 대한 연비 예측 :', 37.1055 +(-0.0009*200)+ (-0.0312*120)+(-3.8009*2.91)) # 22.120880999999997"
      ],
      "metadata": {
        "id": "3OLdEu6GHHvs"
      },
      "execution_count": null,
      "outputs": []
    }
  ]
}